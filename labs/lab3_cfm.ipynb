{
 "cells": [
  {
   "cell_type": "markdown",
   "id": "d03c4a82-1cf5-49c0-bc82-56a7a55b39eb",
   "metadata": {},
   "source": [
    "## Introduction\n",
    "\n",
    "The goal of this lab is to implement a simple Conditional Flow Matching (CFM).\n",
    "It uses the same toy data as the GAN example.\n",
    "\n",
    "We start by showing that no deep learning is required (in low dimension), by implementing it using scikit-learn and more precisely a plain k nearest neighbors approach to regression.\n",
    "\n",
    "Then, we write a pytorch implementation (using neural networks and stochastic gradient descent).\n"
   ]
  },
  {
   "cell_type": "markdown",
   "id": "72ee5476-8a53-45b9-a18a-3f8394b0ba98",
   "metadata": {},
   "source": [
    "## Toy data generation"
   ]
  },
  {
   "cell_type": "code",
   "execution_count": null,
   "id": "282bd25c-ee7e-415f-bce2-25d0fb56156a",
   "metadata": {},
   "outputs": [],
   "source": [
    "# styling the notebook solutions\n",
    "from IPython.core.display import HTML\n",
    "def css_styling():\n",
    "    return HTML(\"\"\"<style>.solution { background: black !important; overflow-y: hidden; &:not(:hover) {height: 1em !important; &::before { content: \"solution\"; color: red; } } &:hover { background: gray !important; transition: 1s linear 1s; } }</style>\"\"\")\n",
    "css_styling()"
   ]
  },
  {
   "cell_type": "code",
   "execution_count": null,
   "id": "dd5bc772-f61c-409c-8ce9-0dfc619acfb4",
   "metadata": {},
   "outputs": [],
   "source": [
    "# %%\n",
    "import torch\n",
    "import torch.nn as nn\n",
    "import matplotlib.pyplot as plt\n",
    "import numpy as np\n",
    "import sklearn\n",
    "import scipy\n",
    "from torch.utils.data import DataLoader\n",
    "import torch.autograd as autograd"
   ]
  },
  {
   "cell_type": "code",
   "execution_count": null,
   "id": "3a2dbfbf-da89-4b6e-9583-afb52513fa7b",
   "metadata": {},
   "outputs": [],
   "source": [
    "# Create a synthetic dataset\n",
    "nb_samples = 1000\n",
    "radius = 1\n",
    "nz = .1\n",
    "# generate the data\n",
    "X_train = torch.zeros((nb_samples, 2))\n",
    "r = radius + nz*torch.randn(nb_samples)\n",
    "theta = torch.rand(nb_samples)*2*torch.pi\n",
    "X_train[:, 0] = r*torch.cos(theta)\n",
    "X_train[:, 1] = r*torch.sin(theta)\n",
    "\n",
    "# clean up to avoid using variables below, by mistake\n",
    "del radius, nz, r, theta"
   ]
  },
  {
   "cell_type": "code",
   "execution_count": null,
   "id": "7093c231-bc04-4196-a2db-86585e347993",
   "metadata": {},
   "outputs": [],
   "source": [
    "# Visualize the data\n",
    "plt.figure(figsize=(3, 3))\n",
    "plt.scatter(X_train[:, 0], X_train[:, 1], s=20, alpha=0.8, edgecolor='k', marker='o', label='original samples')\n",
    "plt.grid(alpha=0.5)\n",
    "plt.legend(loc='best')\n",
    "plt.tight_layout()\n",
    "plt.show()\n",
    "# %%"
   ]
  },
  {
   "cell_type": "markdown",
   "id": "c665c786-3a08-43ed-8128-9f686842096f",
   "metadata": {},
   "source": [
    "## Conditional flow matching using kNN regression\n",
    "\n",
    "We choose as conditioning variable a pair made of a source point (gaussian noise) and target point (the dataset of interest), namely $z = (x_0, x_1)$"
   ]
  },
  {
   "cell_type": "code",
   "execution_count": null,
   "id": "4af118fd-b3b8-4066-8889-9cfdd0fd0fa1",
   "metadata": {},
   "outputs": [],
   "source": [
    "#### Simple version with sklearn\n",
    "nb_fit = 100000\n",
    "\n",
    "x_train_numpy = X_train.numpy()\n",
    "sampled_indices = np.random.randint(0, nb_samples, nb_fit)\n",
    "\n",
    "# TODO IMPLEMENT FLOW MATCHING\n",
    "# - get nb_fit 2D \"source\" points -> x0\n",
    "# - get nb_fit 2D \"target\" points -> x1\n",
    "# - get t time instants uniformly in [0,1]\n",
    "# - compute x (the linear interpolation between x0 and x1 at time t)\n",
    "x0 = ........ # N,2\n",
    "x1 = ........ #  N,2\n",
    "t = ........ # N,1  (or N)\n",
    "x = ........ # N,2\n",
    "\n",
    "assert x.shape == (nb_fit, 2)\n",
    "\n",
    "# conditional velocity field\n",
    "u = x1 - x0 # N,2\n",
    "\n",
    "u_in = np.concatenate([x, t], axis=-1) # N,3\n",
    "u_out = u # N,2\n",
    "velocity_estimator = sklearn.neighbors.KNeighborsRegressor(n_neighbors=100) # question: try n_neighbors=1 , what do you get below? how can you explain it?\n",
    "velocity_estimator.fit(u_in, u_out)\n",
    "\n",
    "# clean up to avoid using variables below, by mistake\n",
    "del x0, x1, t, x, u, u_in, u_out, x_train_numpy"
   ]
  },
  {
   "cell_type": "markdown",
   "id": "53464eac-50a8-4637-a74b-da9043d74c15",
   "metadata": {},
   "source": [
    "<pre class=\"solution\">\n",
    "x0 = np.random.randn(nb_fit, 2) # N,2\n",
    "x1 = x_train_numpy[sampled_indices] #  N,2\n",
    "t = np.random.uniform(0, 1, (nb_fit, 1)) # N,1  (or N)\n",
    "x = x0 * (1-t) + x1 * t # N,2\n",
    "</pre>"
   ]
  },
  {
   "cell_type": "code",
   "execution_count": null,
   "id": "cbd77aab-b598-4259-9373-7604cce1b438",
   "metadata": {},
   "outputs": [],
   "source": [
    "# Visualize the flow\n",
    "\n",
    "def view_field(v, at_t):\n",
    "    l1x = np.linspace(-1.2, 1.2, 20)\n",
    "    l1y = np.linspace(-1.2, 1.2, 20)\n",
    "    x,y = np.meshgrid(l1x, l1y)\n",
    "    x = x.reshape((-1, 1))\n",
    "    y = y.reshape((-1, 1))\n",
    "    u_in = np.concatenate([x, y, np.full_like(x, at_t)], axis=-1)\n",
    "    u_out = v.predict(u_in)\n",
    "    u_out = u_out.reshape((l1x.size, l1y.size, 2))\n",
    "    fig = plt.figure(figsize=(5,5))\n",
    "    ax = fig.subplots()\n",
    "    ax.set_title(f\"t={at_t}\")\n",
    "    q = ax.quiver(x, y, u_out[:,:,0], u_out[:,:,1], -(u_out**2).sum(axis=-1)**0.5)"
   ]
  },
  {
   "cell_type": "code",
   "execution_count": null,
   "id": "bb548ab3-6ce7-4971-a777-3fc3e35fa775",
   "metadata": {},
   "outputs": [],
   "source": [
    "view_field(velocity_estimator, .9)"
   ]
  },
  {
   "cell_type": "code",
   "execution_count": null,
   "id": "0d9d5a16-0d86-46b2-a93a-6dee47829ca5",
   "metadata": {},
   "outputs": [],
   "source": [
    "for i in [0, .1, .3, .5, .7, .9]:\n",
    "    view_field(velocity_estimator, i)\n"
   ]
  },
  {
   "cell_type": "code",
   "execution_count": null,
   "id": "27da48ec-23fb-40d8-b998-36b8ab4de173",
   "metadata": {},
   "outputs": [],
   "source": [
    "#### visualize the generation of samples\n",
    "def view_generation(v, n=1000, dt=0.01, plot_at=[0, .4, .5, .8, .9, 1]):\n",
    "    plot_at = plot_at[:] # copy the list\n",
    "    x = np.random.randn(n, 2)\n",
    "    t = 0.0\n",
    "    while t < plot_at[-1]:\n",
    "        x += dt * v.predict(np.concatenate([x, np.full((n,1), t)], axis=-1))\n",
    "        t += dt\n",
    "        if t > plot_at[0]:\n",
    "            plot_at = plot_at[1:]\n",
    "            plt.figure(figsize=(3, 3))\n",
    "            plt.scatter(x[:, 0], x[:, 1], s=20, alpha=0.2)\n",
    "            plt.grid(alpha=0.5)\n",
    "            plt.tight_layout()\n",
    "            plt.show()\n",
    "            if len(plot_at) == 0:\n",
    "                break\n",
    "\n",
    "view_generation(velocity_estimator)\n",
    "\n",
    "\n"
   ]
  },
  {
   "cell_type": "markdown",
   "id": "cbe7b5be-e7ab-4257-99c7-04989a87840d",
   "metadata": {},
   "source": [
    "## Challenge: do the same with torch\n",
    "\n",
    "(the main structure is given as a guide)"
   ]
  },
  {
   "cell_type": "code",
   "execution_count": null,
   "id": "06782023-bb24-498e-9149-a5e942db9514",
   "metadata": {},
   "outputs": [],
   "source": [
    "# Create a torch model, (x,y,t) -> (vx, vy)\n",
    "# you can use an MLP for instance"
   ]
  },
  {
   "cell_type": "code",
   "execution_count": null,
   "id": "59839833-1e54-4a58-bb55-1ebd375ab76c",
   "metadata": {},
   "outputs": [],
   "source": [
    "class Velocity(nn.Module):\n",
    "    def __init__(self):\n",
    "        super(Velocity, self).__init__()\n",
    "        # TODO BUILD AN MLP MODEL (e.g. 3->10->20->20−>2, with ELU activations\n",
    "        self.model = None\n",
    "\n",
    "    def forward(self, z):\n",
    "        return torch.randn(z.shape[0], 2)         # TODO REMOVE ONCE THE MODEL IS DEFINED\n",
    "        return self.model(z)\n"
   ]
  },
  {
   "cell_type": "markdown",
   "id": "6cf4d11f-5bab-40ae-8570-f97eb503f09f",
   "metadata": {},
   "source": [
    "<pre class=\"solution\">\n",
    "self.model = nn.Sequential(\n",
    "    nn.Linear(3, 10), nn.ELU(),\n",
    "    nn.Linear(10, 20), nn.ELU(),\n",
    "    nn.Linear(20, 20), nn.ELU(),\n",
    "    nn.Linear(20, 2),\n",
    ")  \n",
    "</pre>"
   ]
  },
  {
   "cell_type": "code",
   "execution_count": null,
   "id": "db5873fb-0d0a-48f4-9b3d-8c2ef1231a52",
   "metadata": {},
   "outputs": [],
   "source": [
    "# Create a model and an optimizer (only one, not like GAN that have 2 networks), and data loader"
   ]
  },
  {
   "cell_type": "code",
   "execution_count": null,
   "id": "e1f73d27-d544-4ec7-982e-368a2ac4c11a",
   "metadata": {},
   "outputs": [],
   "source": [
    "# taking inspiration from GANs"
   ]
  },
  {
   "cell_type": "code",
   "execution_count": null,
   "id": "040dcc48-0d85-4a67-9a42-24d6fb18bfdb",
   "metadata": {},
   "outputs": [],
   "source": [
    "velocity = Velocity()\n",
    "\n",
    "n_epochs = 100\n",
    "batch_size = 32  # size of the batch\n",
    "\n",
    "##### TODO init\n",
    "optimizer = None\n",
    "dataloader = None\n"
   ]
  },
  {
   "cell_type": "markdown",
   "id": "736f81f3-2957-4f69-bf01-4cbf1d7773ed",
   "metadata": {},
   "source": [
    "<pre class=\"solution\">\n",
    "optimizer = torch.optim.Adam(velocity.parameters(), lr=0.01)\n",
    "dataloader = DataLoader(X_train, batch_size, shuffle=True)\n",
    "</pre>"
   ]
  },
  {
   "cell_type": "code",
   "execution_count": null,
   "id": "98c8df96-cc7e-4ea7-b3aa-5fd5632e9e89",
   "metadata": {},
   "outputs": [],
   "source": [
    "# Make your training loop\n",
    "# At each step,\n",
    "# - draw a minibatch of z, that is a minibatch of pairs (x0,x1), as before, but with a minibatch\n",
    "# - draw a minibatch of t values between 0 and 1\n",
    "# - compute x as the linear interpolation between x0 and x1 (at time t)\n",
    "# - compute u = x1 - x0\n",
    "# - compute a l2 loss on the prediction ||network([x, t]) - u||²"
   ]
  },
  {
   "cell_type": "code",
   "execution_count": null,
   "id": "99cc8eb5-3f21-4fae-af2d-bf8f5053270e",
   "metadata": {},
   "outputs": [],
   "source": [
    "# taking inspiration from GANs and from above"
   ]
  },
  {
   "cell_type": "code",
   "execution_count": null,
   "id": "64ddb5cb-9004-4302-b1d9-88ebbd2f55b9",
   "metadata": {},
   "outputs": [],
   "source": [
    "for epoch in range(n_epochs):\n",
    "    total_train_loss = 0\n",
    "    for i, x in enumerate(dataloader):\n",
    "        \n",
    "        x1 = x.type(torch.float32)  # real data\n",
    "\n",
    "        optimizer.zero_grad()\n",
    "\n",
    "        # TODO\n",
    "        # ...\n",
    "        u_cond = None\n",
    "\n",
    "        u_pred = None\n",
    "\n",
    "        \n",
    "        loss = torch.sum((u_pred - u_cond)**2)\n",
    "        total_train_loss += loss.item()\n",
    "\n",
    "        loss.backward()\n",
    "        optimizer.step()\n",
    "\n",
    "    if (epoch+1) % 10 == 0:\n",
    "        print(epoch+1, total_train_loss / nb_samples)\n"
   ]
  },
  {
   "cell_type": "markdown",
   "id": "af8182ed-8425-4ef0-b27f-ee12f519a363",
   "metadata": {},
   "source": [
    "<pre class=\"solution\">\n",
    "x0 = torch.randn_like(x1).type(torch.float32)\n",
    "t = torch.rand(x1.shape[0], 1).type(torch.float32)\n",
    "x = x0 * (1-t) + x1 * t\n",
    "u_cond = x1 - x0\n",
    "u_pred = velocity(torch.concatenate([x, t], axis=-1))\n",
    "</pre>"
   ]
  },
  {
   "cell_type": "code",
   "execution_count": null,
   "id": "11ef13ff-8bce-40ca-b7ad-533f697a3cbe",
   "metadata": {},
   "outputs": [],
   "source": [
    "# Question:\n",
    "#\n",
    "# given that the unit of the loss is in squared spatial unit per unit of time,\n",
    "# i.e. 2 means, roughly, that over the integration from t=0 to t=1, the error is of roughly sqrt(2) = 1.4 space unit (bigger than our box)\n",
    "#\n",
    "# Is the loss good?\n",
    "# Is this coherent with whether it works (below)? how can we explain it does?"
   ]
  },
  {
   "cell_type": "code",
   "execution_count": null,
   "id": "a2dbf1fb-8417-4607-a896-8b2a4b78b164",
   "metadata": {},
   "outputs": [],
   "source": []
  },
  {
   "cell_type": "code",
   "execution_count": null,
   "id": "f0583676-d92d-447c-a09d-4221eccca0a7",
   "metadata": {},
   "outputs": [],
   "source": [
    "# wrapping your model to reuse the above visualizations"
   ]
  },
  {
   "cell_type": "code",
   "execution_count": null,
   "id": "1f7dd756-ca40-461d-9a24-557c6ae838bf",
   "metadata": {},
   "outputs": [],
   "source": [
    "class Torch2Sklearn():\n",
    "    def __init__(self, model):\n",
    "        self.model = model\n",
    "    def predict(self, x):\n",
    "        x = torch.Tensor(x)\n",
    "        with torch.no_grad():\n",
    "            o = self.model(x).numpy()\n",
    "        return o"
   ]
  },
  {
   "cell_type": "code",
   "execution_count": null,
   "id": "855482a0-27be-4dc1-b3db-29315ae8f8b5",
   "metadata": {},
   "outputs": [],
   "source": [
    "wrapped = Torch2Sklearn(velocity)"
   ]
  },
  {
   "cell_type": "code",
   "execution_count": null,
   "id": "5226f185-3fc8-40c8-8ec4-3965cd81b4dc",
   "metadata": {},
   "outputs": [],
   "source": [
    "view_field(wrapped, 0.1)\n",
    "view_field(wrapped, 0.9)"
   ]
  },
  {
   "cell_type": "code",
   "execution_count": null,
   "id": "0495757f-9e75-439f-a290-9b9eec6e2c2d",
   "metadata": {},
   "outputs": [],
   "source": [
    "view_generation(wrapped)"
   ]
  },
  {
   "cell_type": "code",
   "execution_count": null,
   "id": "3c2f39d6-5ecf-42c8-a345-7bd482d3bb6b",
   "metadata": {},
   "outputs": [],
   "source": []
  },
  {
   "cell_type": "code",
   "execution_count": null,
   "id": "d9d7572f-eeca-4542-921b-a52d049144d7",
   "metadata": {},
   "outputs": [],
   "source": []
  }
 ],
 "metadata": {
  "kernelspec": {
   "display_name": "Python 3 (ipykernel)",
   "language": "python",
   "name": "python3"
  },
  "language_info": {
   "codemirror_mode": {
    "name": "ipython",
    "version": 3
   },
   "file_extension": ".py",
   "mimetype": "text/x-python",
   "name": "python",
   "nbconvert_exporter": "python",
   "pygments_lexer": "ipython3",
   "version": "3.10.12"
  }
 },
 "nbformat": 4,
 "nbformat_minor": 5
}
