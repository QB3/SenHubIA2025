{
 "cells": [
  {
   "cell_type": "markdown",
   "id": "4a797d1d-35bf-4ad0-a59c-f0da74332206",
   "metadata": {},
   "source": [
    "The goal of this lab is to implement a simple generative adversarial network for 2D data"
   ]
  },
  {
   "cell_type": "code",
   "execution_count": null,
   "id": "a85ef1e7-456d-4350-9425-260eb2c95107",
   "metadata": {},
   "outputs": [],
   "source": [
    "# %%\n",
    "import torch\n",
    "import torch.nn as nn\n",
    "import matplotlib.pyplot as plt\n",
    "import numpy as np\n",
    "from torch.utils.data import DataLoader\n",
    "import torch.autograd as autograd"
   ]
  },
  {
   "cell_type": "code",
   "execution_count": null,
   "id": "4fd400fa-24be-4eb2-9ffb-516ab764857a",
   "metadata": {},
   "outputs": [],
   "source": [
    "# Create a synthetic dataset\n",
    "nb_samples = 10000\n",
    "radius = 1\n",
    "nz = .1\n",
    "# generate the data\n",
    "X_train = torch.zeros((nb_samples, 2))\n",
    "r = radius + nz*torch.randn(nb_samples)\n",
    "theta = torch.rand(nb_samples)*2*torch.pi\n",
    "X_train[:, 0] = r*torch.cos(theta)\n",
    "X_train[:, 1] = r*torch.sin(theta)"
   ]
  },
  {
   "cell_type": "code",
   "execution_count": null,
   "id": "b1a97af3-53d0-4ab7-984a-7d458708e78c",
   "metadata": {},
   "outputs": [],
   "source": [
    "# Visualize the data\n",
    "plt.figure(figsize=(6, 6))\n",
    "plt.scatter(X_train[:, 0], X_train[:, 1], s=20, alpha=0.8, edgecolor='k', marker='o', label='original samples')\n",
    "plt.grid(alpha=0.5)\n",
    "plt.legend(loc='best')\n",
    "plt.tight_layout()\n",
    "plt.show()\n",
    "# %%"
   ]
  },
  {
   "cell_type": "code",
   "execution_count": null,
   "id": "73e17c24-e186-479a-bee6-90a398a4cc1e",
   "metadata": {},
   "outputs": [],
   "source": [
    "# Implement a generator\n",
    "# Generator is of class neural network\n",
    "class Generator(nn.Module):\n",
    "    def __init__(self, noise_dim=10):\n",
    "        super(Generator, self).__init__()\n",
    "        self.noise_dim = noise_dim\n",
    "        # Code a neural network with Relu activation functions and 3 layers of size: \n",
    "        # noise_dim * 128\n",
    "        # 128 * 64\n",
    "        # 64 * 2\n",
    "        self.model = nn.Sequential(\n",
    "            #TODO\n",
    "        )\n",
    "\n",
    "    def forward(self, z):\n",
    "        return self.model(z)\n"
   ]
  },
  {
   "cell_type": "code",
   "execution_count": null,
   "id": "2a5a51d3-572b-423c-9b2b-47a5ef2916fa",
   "metadata": {},
   "outputs": [],
   "source": [
    "# Implement a discriminator\n",
    "# Sometimes called a critic, because there are no [0, 1] constraintes in the WGANs setting \n",
    "class Discriminator(nn.Module):\n",
    "    def __init__(self, noise_dim=10):\n",
    "        super(Discriminator, self).__init__()\n",
    "        # Code a neural network with Relu activation functions and 3 layers of size: \n",
    "        # noise_dim * 128\n",
    "        # 128 * 64\n",
    "        # 64 * 1\n",
    "        self.noise_dim = noise_dim\n",
    "        self.model = nn.Sequential(\n",
    "            #TODO\n",
    "        )\n",
    "\n",
    "    def forward(self, x):\n",
    "        return self.model(x)"
   ]
  },
  {
   "cell_type": "code",
   "execution_count": null,
   "id": "f7065788-fb49-4008-b76d-6422173f535b",
   "metadata": {},
   "outputs": [],
   "source": [
    "# A function to monitor the generated samples while training\n",
    "# It can be ignored \n",
    "def generate_images(generator_model, noise_dim, num_samples=1000):\n",
    "    with torch.no_grad():\n",
    "        z = torch.Tensor(np.random.normal(0, 1, (num_samples, noise_dim))).type(torch.float32)\n",
    "        predicted_samples = generator_model(z)\n",
    "    plt.figure(figsize=(6, 6))\n",
    "    plt.scatter(X_train[:, 0], X_train[:, 1], s=40, alpha=0.2, edgecolor='k', marker='+', label='original samples')\n",
    "    plt.scatter(predicted_samples[:, 0], predicted_samples[:, 1], s=10,\n",
    "                alpha=0.9, c='r', edgecolor='k', marker='o', label='predicted')\n",
    "    plt.grid(alpha=0.5)\n",
    "    plt.legend(loc='best')\n",
    "    plt.tight_layout()\n",
    "    plt.show()\n"
   ]
  },
  {
   "cell_type": "code",
   "execution_count": null,
   "id": "d05f841c-02a2-407a-a537-75389f5eae1c",
   "metadata": {},
   "outputs": [],
   "source": [
    "# Initialize the generator and the discriminator\n",
    "noise_dim = 2\n",
    "generator = Generator(noise_dim=noise_dim)\n",
    "discriminator = Discriminator(noise_dim=noise_dim)"
   ]
  },
  {
   "cell_type": "code",
   "execution_count": null,
   "id": "a38f824a-4a70-4903-ab1b-87f8c43b682a",
   "metadata": {},
   "outputs": [],
   "source": [
    "# Optimizers\n",
    "lr_G = 0.001  # learning rate for the generator\n",
    "lr_D = 0.001  # learning rate for the discriminator\n",
    "n_epochs = 500  # number of \"epochs\"\n",
    "clip_value = 0.3  # number of \"epochs\"\n",
    "update_gen_every = 5  # update the generator every update_gen_every\n",
    "batch_size = 128  # size of the batch\n",
    "optimizer_G = torch.optim.Adam(generator.parameters(), lr=lr_G, betas=(0.5, 0.9))  # Optimizer for the generator \n",
    "optimizer_D = torch.optim.Adam(discriminator.parameters(), lr=lr_D, betas=(0.5, 0.9))  # Optimizer for the discriminator\n",
    "dataloader = DataLoader(X_train, batch_size, shuffle=True)"
   ]
  },
  {
   "cell_type": "code",
   "execution_count": null,
   "id": "9a872406-de35-48e8-9ae5-7ff7bf38fbdd",
   "metadata": {},
   "outputs": [],
   "source": [
    "# TODO: implement the alternated gradient descent ascent for a GAN \n",
    "for epoch in range(n_epochs):\n",
    "    for i, x in enumerate(dataloader):\n",
    "        # Configure input\n",
    "        x = x.type(torch.float32)  # real data\n",
    "        # ---------------------\n",
    "        #  Train Discriminator\n",
    "        # ---------------------\n",
    "        optimizer_D.zero_grad()\n",
    "\n",
    "        # Sample noise as generator input\n",
    "        z = #TODO\n",
    "\n",
    "        # Generate a batch of images\n",
    "        # We do not want to update the generator in this loop\n",
    "        fake_x =  # TODO\n",
    "        # Adversarial loss\n",
    "        loss_D = #TODO\n",
    "\n",
    "        loss_D.backward()\n",
    "        optimizer_D.step()\n",
    "\n",
    "        # Clip weights of discriminator\n",
    "        #TODO\n",
    "\n",
    "        # Train the generator every n_critic iterations\n",
    "        if i % update_gen_every == 0:\n",
    "            # -----------------\n",
    "            #  Train Generator\n",
    "            # -----------------\n",
    "\n",
    "            optimizer_G.zero_grad()\n",
    "\n",
    "            # Generate a batch of images\n",
    "            fake_x = # TODO\n",
    "            # Adversarial loss\n",
    "            loss_G = #TODO\n",
    "\n",
    "            loss_G.backward()\n",
    "            optimizer_G.step()\n",
    "\n",
    "    # Visualization of intermediate results\n",
    "    if epoch % 50 == 0:\n",
    "        print(\"Epoch: \", epoch)\n",
    "        generate_images(generator, noise_dim)"
   ]
  },
  {
   "cell_type": "markdown",
   "id": "032f5e9e-aa63-45a8-98b3-a4cc56ac9eca",
   "metadata": {},
   "source": [
    "Wasserstein generative adversarial networks with gradent penalty"
   ]
  },
  {
   "cell_type": "code",
   "execution_count": null,
   "id": "6db0f45a-ccc7-4bd7-a0d5-861ad8aef252",
   "metadata": {},
   "outputs": [],
   "source": [
    "# Implementation of the gradient penalty\n",
    "# The code below is bit hacky because of pytorch philosophy\n",
    "def compute_gradient_penalty(D, real_samples, fake_samples):\n",
    "    \"\"\"Calculates the gradient penalty loss for WGAN GP\"\"\"\n",
    "    # Random weight term for interpolation between real and fake samples\n",
    "    alpha = torch.Tensor(np.random.random((real_samples.size(0), 1)))\n",
    "    # Get random interpolation between real and fake samples\n",
    "    interpolates = (alpha * real_samples + ((1 - alpha) * fake_samples)).requires_grad_(True)\n",
    "    d_interpolates = D(interpolates)\n",
    "    # Get gradient w.r.t. interpolates\n",
    "    gradients = # TODO\n",
    "    return gradient_penalty"
   ]
  },
  {
   "cell_type": "code",
   "execution_count": null,
   "id": "2a1beff9-7e79-40e6-8296-7dcea773c50e",
   "metadata": {},
   "outputs": [],
   "source": [
    "# Initialize generator and discriminator\n",
    "noise_dim = 2\n",
    "generator = Generator(noise_dim=noise_dim)\n",
    "discriminator = Discriminator()"
   ]
  },
  {
   "cell_type": "code",
   "execution_count": null,
   "id": "8c8b370d-4b4c-4960-8578-a414c2ceab47",
   "metadata": {},
   "outputs": [],
   "source": [
    "# Optimizers\n",
    "lr_G = 0.0001\n",
    "lr_D = 0.001\n",
    "n_epochs = 500  # 500\n",
    "lambda_gp = 1.0\n",
    "n_critic = 5\n",
    "batch_size = 128\n",
    "optimizer_G = torch.optim.Adam(generator.parameters(), lr=lr_G, betas=(0.5, 0.9))\n",
    "optimizer_D = torch.optim.Adam(discriminator.parameters(), lr=lr_D, betas=(0.5, 0.9))\n",
    "dataloader = DataLoader(X_train, batch_size, shuffle=True)"
   ]
  },
  {
   "cell_type": "code",
   "execution_count": null,
   "id": "422ee03e-955e-45aa-a3e8-b38d8e27a172",
   "metadata": {},
   "outputs": [],
   "source": [
    "for epoch in range(n_epochs):\n",
    "    for i, x in enumerate(dataloader):\n",
    "        # Configure input\n",
    "        x = x.type(torch.float32)\n",
    "        # ---------------------\n",
    "        #  Train Discriminator\n",
    "        # ---------------------\n",
    "        optimizer_D.zero_grad()\n",
    "\n",
    "        # Sample noise as generator input\n",
    "        z = #TODO\n",
    "\n",
    "        # Generate a batch of images\n",
    "        fake_x =  # TODO\n",
    "        # Adversarial loss\n",
    "        gradient_penalty =  # TODO\n",
    "        loss_D =  # TODO\n",
    "\n",
    "        loss_D.backward()\n",
    "        optimizer_D.step()\n",
    "\n",
    "\n",
    "        # Train the generator every n_critic iterations\n",
    "        if i % update_gen_every == 0:\n",
    "            # -----------------\n",
    "            #  Train Generator\n",
    "            # -----------------\n",
    "\n",
    "            optimizer_G.zero_grad()\n",
    "\n",
    "            # Generate a batch of images\n",
    "            fake_x = # TODO\n",
    "            # Adversarial loss\n",
    "            loss_G = # TODO\n",
    "\n",
    "            loss_G.backward()\n",
    "            optimizer_G.step()\n",
    "\n",
    "\n",
    "    # Visualization of intermediate results\n",
    "    if epoch % 10 == 0:\n",
    "        print(\"Epoch: \", epoch)\n",
    "        generate_images(generator, noise_dim)"
   ]
  }
 ],
 "metadata": {
  "kernelspec": {
   "display_name": "Python 3 (ipykernel)",
   "language": "python",
   "name": "python3"
  },
  "language_info": {
   "codemirror_mode": {
    "name": "ipython",
    "version": 3
   },
   "file_extension": ".py",
   "mimetype": "text/x-python",
   "name": "python",
   "nbconvert_exporter": "python",
   "pygments_lexer": "ipython3",
   "version": "3.12.3"
  }
 },
 "nbformat": 4,
 "nbformat_minor": 5
}
